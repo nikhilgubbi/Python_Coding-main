{
 "cells": [
  {
   "cell_type": "markdown",
   "id": "2725f9fe",
   "metadata": {},
   "source": [
    "Rectangle that is represented as a list [x1, y1, x2, y2], where (x1, y1) is the coordinates of its top-left corner, and (x2, y2) is the coordinates of its bottam-right corner. Now two rectangles overlap if the area of their intersection is positive.Two rectangles that only touch at the corner or edges do not overlap.Check in O(1) Time complexity and O(1) Space complexity that both rectangle overlap or not"
   ]
  },
  {
   "cell_type": "code",
   "execution_count": null,
   "id": "8306aab8",
   "metadata": {},
   "outputs": [],
   "source": [
    "# TC: O(1)\n",
    "# SC: O(1)\n",
    "def recOverlap(rec1,rec2):\n",
    "    \n",
    "    if rec2[2] <= rec1[0] or rec1[2] <= rec2[1]:\n",
    "        return True\n",
    "    if rec2[3] <= rec1[2] or rec1[3] <= rec2[1]:\n",
    "        return True\n",
    "    return False\n",
    "if __name__==\"__main__\":\n",
    "    rec1=[0,0,2,2]\n",
    "    rec2=[1,1,3,3]"
   ]
  }
 ],
 "metadata": {
  "kernelspec": {
   "display_name": "Python 3 (ipykernel)",
   "language": "python",
   "name": "python3"
  },
  "language_info": {
   "codemirror_mode": {
    "name": "ipython",
    "version": 3
   },
   "file_extension": ".py",
   "mimetype": "text/x-python",
   "name": "python",
   "nbconvert_exporter": "python",
   "pygments_lexer": "ipython3",
   "version": "3.10.0a5"
  },
  "varInspector": {
   "cols": {
    "lenName": 16,
    "lenType": 16,
    "lenVar": 40
   },
   "kernels_config": {
    "python": {
     "delete_cmd_postfix": "",
     "delete_cmd_prefix": "del ",
     "library": "var_list.py",
     "varRefreshCmd": "print(var_dic_list())"
    },
    "r": {
     "delete_cmd_postfix": ") ",
     "delete_cmd_prefix": "rm(",
     "library": "var_list.r",
     "varRefreshCmd": "cat(var_dic_list()) "
    }
   },
   "types_to_exclude": [
    "module",
    "function",
    "builtin_function_or_method",
    "instance",
    "_Feature"
   ],
   "window_display": false
  }
 },
 "nbformat": 4,
 "nbformat_minor": 5
}
