{
 "cells": [
  {
   "cell_type": "markdown",
   "id": "f03ffa09",
   "metadata": {},
   "source": [
    "We have an array, we have to find an element before which all elements are less than it, and after which all are greater than it. Finally, return the index of the element, if there is no such element, then return -1"
   ]
  },
  {
   "cell_type": "code",
   "execution_count": 15,
   "id": "d2508c9b",
   "metadata": {},
   "outputs": [
    {
     "name": "stdout",
     "output_type": "stream",
     "text": [
      "7\n"
     ]
    }
   ],
   "source": [
    "#TC : O(N)\n",
    "#SC : O(N)\n",
    "\n",
    "def leftMorerightLess(arr,n):\n",
    "    \n",
    "    # Create two arrays leftMax and rightMin\n",
    "    leftMax = [None]*n\n",
    "    leftMax[0] = arr[0]\n",
    "    \n",
    "    # Traverse array from left to right and fill leftMax[i] such that leftMax[i] contains max element from 0 to i-1 in input array\n",
    "    \n",
    "    for i in range(1,n):\n",
    "        leftMax[i] = max(leftMax[i-1],arr[i-1])\n",
    "    \n",
    "    rightMin = [None]*n\n",
    "    rightMin[n-1] = arr[n-1]\n",
    "    \n",
    "    # Traverse array from right to left and fill rightMin[i] such that rightMin[i] contains min element from n-1 to i+1 in input array\n",
    "    \n",
    "    for i in range(n-2,-1,-1):\n",
    "        rightMin[i] = min(rightMin[i+1],arr[i])\n",
    "        \n",
    "    # Traverse input array.\n",
    "    # For every element arr[i] check if arr[i] is greater than leftMax[i] and smaller than rightMin[i].\n",
    "    # If yes, return arr[i]\n",
    "    # Else return -1\n",
    "\n",
    "        \n",
    "    for i in range(1,n-1):\n",
    "        if leftMax[i-1] <= arr[i] and arr[i] <= rightMin[i+1]:\n",
    "            \n",
    "            return arr[i]\n",
    "    return -1 \n",
    "\n",
    "    \n",
    "if __name__==\"__main__\":\n",
    "    \n",
    "    arr = [6,2,5,4,7,9,11,8,10]\n",
    "    n = len(arr)\n",
    "    print(leftMorerightLess(arr,n))"
   ]
  },
  {
   "cell_type": "code",
   "execution_count": null,
   "id": "8290cfcb",
   "metadata": {},
   "outputs": [],
   "source": []
  }
 ],
 "metadata": {
  "kernelspec": {
   "display_name": "Python 3 (ipykernel)",
   "language": "python",
   "name": "python3"
  },
  "language_info": {
   "codemirror_mode": {
    "name": "ipython",
    "version": 3
   },
   "file_extension": ".py",
   "mimetype": "text/x-python",
   "name": "python",
   "nbconvert_exporter": "python",
   "pygments_lexer": "ipython3",
   "version": "3.10.0a5"
  },
  "varInspector": {
   "cols": {
    "lenName": 16,
    "lenType": 16,
    "lenVar": 40
   },
   "kernels_config": {
    "python": {
     "delete_cmd_postfix": "",
     "delete_cmd_prefix": "del ",
     "library": "var_list.py",
     "varRefreshCmd": "print(var_dic_list())"
    },
    "r": {
     "delete_cmd_postfix": ") ",
     "delete_cmd_prefix": "rm(",
     "library": "var_list.r",
     "varRefreshCmd": "cat(var_dic_list()) "
    }
   },
   "types_to_exclude": [
    "module",
    "function",
    "builtin_function_or_method",
    "instance",
    "_Feature"
   ],
   "window_display": false
  }
 },
 "nbformat": 4,
 "nbformat_minor": 5
}
