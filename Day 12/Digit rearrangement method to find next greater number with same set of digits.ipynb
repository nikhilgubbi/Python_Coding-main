{
 "cells": [
  {
   "cell_type": "markdown",
   "id": "27d8798f",
   "metadata": {},
   "source": [
    "Write an algorithm to find out next greater number to given number with the same set of digits"
   ]
  },
  {
   "cell_type": "code",
   "execution_count": null,
   "id": "008642bd",
   "metadata": {},
   "outputs": [],
   "source": [
    "def next_greater_num(arr):\n",
    "    n = len(arr)\n",
    "    for i in range(n-1,0,-1):\n",
    "        if arr[i] > arr[i-1]:\n",
    "            break\n",
    "    min = i\n",
    "    ele = arr[i-1]\n",
    "    for j in range(i+1,n):\n",
    "        if arr[j] > ele and arr[j]<arr[i]:\n",
    "            min = j \n",
    "    arr[min],arr[i-1] = arr[i-1],arr[min]\n",
    "    array = sorted[arr[i:]]\n",
    "    \n",
    "            \n",
    "            \n",
    "    "
   ]
  }
 ],
 "metadata": {
  "kernelspec": {
   "display_name": "Python 3 (ipykernel)",
   "language": "python",
   "name": "python3"
  },
  "language_info": {
   "codemirror_mode": {
    "name": "ipython",
    "version": 3
   },
   "file_extension": ".py",
   "mimetype": "text/x-python",
   "name": "python",
   "nbconvert_exporter": "python",
   "pygments_lexer": "ipython3",
   "version": "3.10.0a5"
  },
  "varInspector": {
   "cols": {
    "lenName": 16,
    "lenType": 16,
    "lenVar": 40
   },
   "kernels_config": {
    "python": {
     "delete_cmd_postfix": "",
     "delete_cmd_prefix": "del ",
     "library": "var_list.py",
     "varRefreshCmd": "print(var_dic_list())"
    },
    "r": {
     "delete_cmd_postfix": ") ",
     "delete_cmd_prefix": "rm(",
     "library": "var_list.r",
     "varRefreshCmd": "cat(var_dic_list()) "
    }
   },
   "types_to_exclude": [
    "module",
    "function",
    "builtin_function_or_method",
    "instance",
    "_Feature"
   ],
   "window_display": false
  }
 },
 "nbformat": 4,
 "nbformat_minor": 5
}
