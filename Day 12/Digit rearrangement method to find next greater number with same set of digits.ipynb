{
 "cells": [
  {
   "cell_type": "markdown",
   "id": "da1ae457",
   "metadata": {},
   "source": [
    "Write an algorithm to find out next greater number to given number with the same set of digits"
   ]
  },
  {
   "cell_type": "code",
   "execution_count": 12,
   "id": "5cf0ebaa",
   "metadata": {},
   "outputs": [
    {
     "name": "stdout",
     "output_type": "stream",
     "text": [
      "251678\n"
     ]
    }
   ],
   "source": [
    "#TC : O(nlogn)\n",
    "#SC : O(1)\n",
    "\n",
    "def next_greater_num(nums):\n",
    "    n = len(nums)\n",
    "    nums = list(nums)\n",
    "    for i in range(n - 1, 0, -1):\n",
    "        if nums[i] > nums[i - 1]:\n",
    "            mini = i\n",
    "            for j in range(i + 1, n):\n",
    "                if nums[mini] > nums[j] > nums[i - 1]:\n",
    "                    mini = j\n",
    "            nums[i - 1], nums[mini] = nums[mini], nums[i - 1]\n",
    "            nums = nums[:i] + sorted(nums[i:])\n",
    "            return ''.join(nums)\n",
    "    return ''.join(nums)\n",
    "if __name__=='__main__':\n",
    "    arr = ['218765']\n",
    "    for numbers in arr:\n",
    "        print(next_greater_num(numbers))"
   ]
  },
  {
   "cell_type": "code",
   "execution_count": null,
   "id": "fc05ec29",
   "metadata": {},
   "outputs": [],
   "source": []
  }
 ],
 "metadata": {
  "kernelspec": {
   "display_name": "Python 3 (ipykernel)",
   "language": "python",
   "name": "python3"
  },
  "language_info": {
   "codemirror_mode": {
    "name": "ipython",
    "version": 3
   },
   "file_extension": ".py",
   "mimetype": "text/x-python",
   "name": "python",
   "nbconvert_exporter": "python",
   "pygments_lexer": "ipython3",
   "version": "3.10.0a5"
  },
  "varInspector": {
   "cols": {
    "lenName": 16,
    "lenType": 16,
    "lenVar": 40
   },
   "kernels_config": {
    "python": {
     "delete_cmd_postfix": "",
     "delete_cmd_prefix": "del ",
     "library": "var_list.py",
     "varRefreshCmd": "print(var_dic_list())"
    },
    "r": {
     "delete_cmd_postfix": ") ",
     "delete_cmd_prefix": "rm(",
     "library": "var_list.r",
     "varRefreshCmd": "cat(var_dic_list()) "
    }
   },
   "types_to_exclude": [
    "module",
    "function",
    "builtin_function_or_method",
    "instance",
    "_Feature"
   ],
   "window_display": false
  }
 },
 "nbformat": 4,
 "nbformat_minor": 5
}
