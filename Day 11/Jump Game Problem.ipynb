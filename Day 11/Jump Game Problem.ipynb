{
 "cells": [
  {
   "cell_type": "markdown",
   "id": "f9a9e0c6",
   "metadata": {},
   "source": [
    "You have an array of non-negative integers,you are initially positioned at the first index of the array.Each element in the array represents your maximum jump length at that position.Determine if you are able to reach the last index in O(n) Time complexity and O(1) Space Complexity"
   ]
  },
  {
   "cell_type": "code",
   "execution_count": 1,
   "id": "3f876d96",
   "metadata": {},
   "outputs": [
    {
     "name": "stdout",
     "output_type": "stream",
     "text": [
      "3\n"
     ]
    }
   ],
   "source": [
    "def JumpsGame(arr,n):\n",
    "    \n",
    "    # If length of arr is < = 1, return -1\n",
    "    if n<=1:\n",
    "        return 0\n",
    "    # If first array element = 0, return -1\n",
    "    if arr[0]==0:\n",
    "        return -1 \n",
    "    \n",
    "    a = arr[0] #MaxReach\n",
    "    b = arr[1] # Steps\n",
    "    jump = 1\n",
    "    \n",
    "    for i in range(1,n):\n",
    "        \n",
    "        # If Reached the array end \n",
    "        if (i==n-1):\n",
    "            return jump\n",
    "        \n",
    "        b = b-1\n",
    "        a = a-1 \n",
    "        \n",
    "        if arr[i] > b:\n",
    "            b = arr[i]\n",
    "            \n",
    "        # If there ara no b's\n",
    "        if a==0:\n",
    "            jump = jump +1\n",
    "            a = b \n",
    "            \n",
    "        # If Failed to reach the end\n",
    "        if b == 0:\n",
    "            return -1\n",
    "        \n",
    "    return jump \n",
    "\n",
    "if __name__==\"__main__\":\n",
    "    arr = [1,3,5,8,9,2,6,7,6,8,9]\n",
    "    n = len(arr)\n",
    "    print(JumpsGame(arr,n))"
   ]
  },
  {
   "cell_type": "code",
   "execution_count": null,
   "id": "7a98776b",
   "metadata": {},
   "outputs": [],
   "source": []
  }
 ],
 "metadata": {
  "kernelspec": {
   "display_name": "Python 3 (ipykernel)",
   "language": "python",
   "name": "python3"
  },
  "language_info": {
   "codemirror_mode": {
    "name": "ipython",
    "version": 3
   },
   "file_extension": ".py",
   "mimetype": "text/x-python",
   "name": "python",
   "nbconvert_exporter": "python",
   "pygments_lexer": "ipython3",
   "version": "3.10.0a5"
  },
  "varInspector": {
   "cols": {
    "lenName": 16,
    "lenType": 16,
    "lenVar": 40
   },
   "kernels_config": {
    "python": {
     "delete_cmd_postfix": "",
     "delete_cmd_prefix": "del ",
     "library": "var_list.py",
     "varRefreshCmd": "print(var_dic_list())"
    },
    "r": {
     "delete_cmd_postfix": ") ",
     "delete_cmd_prefix": "rm(",
     "library": "var_list.r",
     "varRefreshCmd": "cat(var_dic_list()) "
    }
   },
   "types_to_exclude": [
    "module",
    "function",
    "builtin_function_or_method",
    "instance",
    "_Feature"
   ],
   "window_display": false
  }
 },
 "nbformat": 4,
 "nbformat_minor": 5
}
