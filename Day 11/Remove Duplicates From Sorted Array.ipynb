{
 "cells": [
  {
   "cell_type": "markdown",
   "id": "4551096b",
   "metadata": {},
   "source": [
    "Given a sorted array, remove the duplicates in place such that each element appear only once and return the new length. Do not allocate extra space for another array,"
   ]
  },
  {
   "cell_type": "code",
   "execution_count": 9,
   "id": "70c2f5c4",
   "metadata": {},
   "outputs": [
    {
     "name": "stdout",
     "output_type": "stream",
     "text": [
      "5\n"
     ]
    }
   ],
   "source": [
    "#TC : O(n)\n",
    "#SC : O(1)\n",
    "\n",
    "def removeDuplicates(arr,n):\n",
    "    \n",
    "    # If array has no elements or only one element, return n\n",
    "    if (n==0 and n==1):\n",
    "        return n \n",
    "    # arr = [1,2,2,3,4,4,4,5,5]\n",
    "    # When i = 0, j= 0 arr=[1,2,2,3,4,4,4,5,5], arr[0] != arr[1], hence arr[0] = arr[0] and j =1, Increment i\n",
    "    # When i = 1, j = 1 arr[j] =[1,2,2,3,4,4,4,5,5]. arr[1] == arr[2], hence increment i\n",
    "    # When i = 2, j = 1 arr[j] = [1,2,2,3,4,4,4,5,5] arr[2] != arr[3], hence arr[1] = arr[2] j = 2, increment i\n",
    "    # When i =3, j = 2 arr[j] = [1,2,3,3,4,4,4,5,5] arr[3] != arr[4], hence arr[2] = arr[3] and j = 3, Increment i\n",
    "    # When i = 4, j = 3 arr[j] =[1,2,3,3,4,4,4,5,5] arr[4] == arr[5], hence increment i\n",
    "    # When i = 5, j = 3 arr[j] = [1,2,3,3,4,4,4,5,5] arr[5] == arr[6], hence increment i\n",
    "    # When i = 6, j = 3 arr[j] = [1,2,3,4,4,4,4,5,5] arr[6] != arr[7], hence arr[3] = arr[6] and j = 4, Increment i\n",
    "    # When i = 7, j= 4 arr[j] = [1,2,3,4,4,4,5,5] arr[7] == arr[8], hence Increment i\n",
    "   # End of for loop\n",
    "     \n",
    "    j = 0\n",
    "    for i in range(0,n-1):\n",
    "        if arr[i] != arr[i+1]:\n",
    "            arr[j] = arr[i] \n",
    "            j = j + 1\n",
    "            \n",
    "    # Check for the last index element and copy it to a[j]. Increment the j and return j\n",
    "    \n",
    "    # When j = 4 arr[j] = [1,2,3,4,5,4,4,5,5] increment j\n",
    "    # j = 5\n",
    "    arr[j] = arr[n-1]\n",
    "    j = j + 1\n",
    "    return j \n",
    "if __name__==\"__main__\":\n",
    "    arr = [1,2,2,3,4,4,4,5,5]\n",
    "    #arr = [1,1,2]\n",
    "    #arr = [2,2,2,2,2]\n",
    "    n = len(arr)\n",
    "    print(removeDuplicates(arr,n))"
   ]
  },
  {
   "cell_type": "code",
   "execution_count": null,
   "id": "b815cf56",
   "metadata": {},
   "outputs": [],
   "source": []
  }
 ],
 "metadata": {
  "kernelspec": {
   "display_name": "Python 3 (ipykernel)",
   "language": "python",
   "name": "python3"
  },
  "language_info": {
   "codemirror_mode": {
    "name": "ipython",
    "version": 3
   },
   "file_extension": ".py",
   "mimetype": "text/x-python",
   "name": "python",
   "nbconvert_exporter": "python",
   "pygments_lexer": "ipython3",
   "version": "3.10.0a5"
  },
  "varInspector": {
   "cols": {
    "lenName": 16,
    "lenType": 16,
    "lenVar": 40
   },
   "kernels_config": {
    "python": {
     "delete_cmd_postfix": "",
     "delete_cmd_prefix": "del ",
     "library": "var_list.py",
     "varRefreshCmd": "print(var_dic_list())"
    },
    "r": {
     "delete_cmd_postfix": ") ",
     "delete_cmd_prefix": "rm(",
     "library": "var_list.r",
     "varRefreshCmd": "cat(var_dic_list()) "
    }
   },
   "types_to_exclude": [
    "module",
    "function",
    "builtin_function_or_method",
    "instance",
    "_Feature"
   ],
   "window_display": false
  }
 },
 "nbformat": 4,
 "nbformat_minor": 5
}
