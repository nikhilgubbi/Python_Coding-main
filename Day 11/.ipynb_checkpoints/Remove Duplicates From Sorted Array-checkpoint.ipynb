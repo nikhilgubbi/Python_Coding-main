{
 "cells": [
  {
   "cell_type": "markdown",
   "id": "e342f870",
   "metadata": {},
   "source": [
    "Given a sorted array, remove the duplicates in place such that each element appear only once and return the new length. Do not allocate extra space for another array,"
   ]
  },
  {
   "cell_type": "code",
   "execution_count": 9,
   "id": "94bbfda2",
   "metadata": {},
   "outputs": [
    {
     "name": "stdout",
     "output_type": "stream",
     "text": [
      "5\n"
     ]
    }
   ],
   "source": [
    "#TC : O(n)\n",
    "#SC : O(1)\n",
    "\n",
    "def removeDuplicates(arr,n):\n",
    "    \n",
    "    # If array has no elements or only one element, return n\n",
    "    if (n==0 and n==1):\n",
    "        return n \n",
    "    \n",
    "    \n",
    "    j = 0\n",
    "    for i in range(0,n-1):\n",
    "        if arr[i] != arr[i+1]:\n",
    "            arr[j] = arr[i] \n",
    "            j = j + 1\n",
    "            \n",
    "    # Check for the last index element and copy it to a[j]. Increment the j and return j\n",
    "    arr[j] = arr[n-1]\n",
    "    j = j + 1\n",
    "    return j \n",
    "if __name__==\"__main__\":\n",
    "    arr = [1,2,2,3,4,4,4,5,5]\n",
    "    #arr = [1,1,2]\n",
    "    #arr = [2,2,2,2,2]\n",
    "    n = len(arr)\n",
    "    print(removeDuplicates(arr,n))"
   ]
  },
  {
   "cell_type": "code",
   "execution_count": null,
   "id": "11db95b6",
   "metadata": {},
   "outputs": [],
   "source": []
  }
 ],
 "metadata": {
  "kernelspec": {
   "display_name": "Python 3 (ipykernel)",
   "language": "python",
   "name": "python3"
  },
  "language_info": {
   "codemirror_mode": {
    "name": "ipython",
    "version": 3
   },
   "file_extension": ".py",
   "mimetype": "text/x-python",
   "name": "python",
   "nbconvert_exporter": "python",
   "pygments_lexer": "ipython3",
   "version": "3.10.0a5"
  },
  "varInspector": {
   "cols": {
    "lenName": 16,
    "lenType": 16,
    "lenVar": 40
   },
   "kernels_config": {
    "python": {
     "delete_cmd_postfix": "",
     "delete_cmd_prefix": "del ",
     "library": "var_list.py",
     "varRefreshCmd": "print(var_dic_list())"
    },
    "r": {
     "delete_cmd_postfix": ") ",
     "delete_cmd_prefix": "rm(",
     "library": "var_list.r",
     "varRefreshCmd": "cat(var_dic_list()) "
    }
   },
   "types_to_exclude": [
    "module",
    "function",
    "builtin_function_or_method",
    "instance",
    "_Feature"
   ],
   "window_display": false
  }
 },
 "nbformat": 4,
 "nbformat_minor": 5
}
