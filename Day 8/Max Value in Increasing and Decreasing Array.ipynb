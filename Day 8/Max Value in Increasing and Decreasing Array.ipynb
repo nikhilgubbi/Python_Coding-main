{
 "cells": [
  {
   "cell_type": "markdown",
   "id": "688c57e2",
   "metadata": {},
   "source": [
    "One array of integers is given as an input ,which is initially increasing and then decreasing or it can be only increasing or decreasing, you need to find the maximum value in the array in O(Log n) Time complexity and O(1) Space Complexity Asked in : Amazon Microsoft Uber\n",
    "\n"
   ]
  },
  {
   "cell_type": "code",
   "execution_count": 8,
   "id": "b1481bf2",
   "metadata": {},
   "outputs": [
    {
     "name": "stdout",
     "output_type": "stream",
     "text": [
      "6\n"
     ]
    }
   ],
   "source": [
    "# arr = [6,9,15,25,35,50,41,29,23,8]\n",
    "# max = 50\n",
    "\n",
    "def ArrIncDec(arr,low,high):\n",
    "    max = arr[low]\n",
    "    i = low\n",
    "    for i in range(high+1):\n",
    "        if arr[i] > max:\n",
    "            max = arr[i]\n",
    "    return max \n",
    "if __name__==\"__main__\":\n",
    "    #arr = [6,9,15,25,35,50,41,29,23,8]\n",
    "    arr = [-1,0,1,2,3,4,6,5,4,3,2,1,0,-1,-2,-3]\n",
    "    high = len(arr)-1\n",
    "    low = 0\n",
    "    print(ArrIncDec(arr,low,high))"
   ]
  },
  {
   "cell_type": "code",
   "execution_count": 31,
   "id": "633200b1",
   "metadata": {},
   "outputs": [
    {
     "name": "stdout",
     "output_type": "stream",
     "text": [
      "50\n"
     ]
    }
   ],
   "source": [
    "#arr = [6,9,15,25,35,50,41,29,23,8]\n",
    "def ArrIncDex(arr,start,end):\n",
    "    if start == end:\n",
    "        return arr[start]\n",
    "    if start == end+1:\n",
    "        if arr[start] >=arr[end]:\n",
    "            return arr[start]\n",
    "        else:\n",
    "            return arr[end]\n",
    "      \n",
    "    # Compute mid value\n",
    "    mid = (start+end)//2 \n",
    "    \n",
    "    # if arr[mid] == 50\n",
    "    if arr[mid] > arr[mid+1] and arr[mid-1] < arr[mid]:\n",
    "        return arr[mid]\n",
    "    \n",
    "    # If array[mid] is greater than the next element and smaller than the previous element then maximum lies on left side of mid  \n",
    "    if arr[mid]>arr[mid+1] and arr[mid]<arr[mid-1]:\n",
    "        return ArrIncDex(arr,start,mid-1)\n",
    "    \n",
    "    # When array[mid] is greater than array[mid-1] and smaller than array[mid+1]\n",
    "    else:\n",
    "        return ArrIncDex(arr,mid+1,end)\n",
    "    \n",
    "if __name__ == \"__main__\":\n",
    "    arr = [6,9,15,25,35,50,41,29,23,8]\n",
    "    \n",
    "    #arr = [3, 5,15, 50, 11, 10, 8, 6]\n",
    "    #start = 0\n",
    "    #end = len(arr)-1\n",
    "    print(ArrIncDex(arr,0,9))\n",
    "    \n",
    "    "
   ]
  },
  {
   "cell_type": "code",
   "execution_count": null,
   "id": "443726c8",
   "metadata": {},
   "outputs": [],
   "source": []
  }
 ],
 "metadata": {
  "kernelspec": {
   "display_name": "Python 3 (ipykernel)",
   "language": "python",
   "name": "python3"
  },
  "language_info": {
   "codemirror_mode": {
    "name": "ipython",
    "version": 3
   },
   "file_extension": ".py",
   "mimetype": "text/x-python",
   "name": "python",
   "nbconvert_exporter": "python",
   "pygments_lexer": "ipython3",
   "version": "3.10.0a5"
  },
  "varInspector": {
   "cols": {
    "lenName": 16,
    "lenType": 16,
    "lenVar": 40
   },
   "kernels_config": {
    "python": {
     "delete_cmd_postfix": "",
     "delete_cmd_prefix": "del ",
     "library": "var_list.py",
     "varRefreshCmd": "print(var_dic_list())"
    },
    "r": {
     "delete_cmd_postfix": ") ",
     "delete_cmd_prefix": "rm(",
     "library": "var_list.r",
     "varRefreshCmd": "cat(var_dic_list()) "
    }
   },
   "types_to_exclude": [
    "module",
    "function",
    "builtin_function_or_method",
    "instance",
    "_Feature"
   ],
   "window_display": false
  }
 },
 "nbformat": 4,
 "nbformat_minor": 5
}
