{
 "cells": [
  {
   "cell_type": "markdown",
   "id": "729c87a7",
   "metadata": {},
   "source": [
    "# Binary Search Algorithm"
   ]
  },
  {
   "cell_type": "markdown",
   "id": "b64a4962",
   "metadata": {},
   "source": [
    "## This can be used \n",
    "     If Array is Sorted\n",
    "     If Array is in Increasing and Decreasing fashion\n",
    "     Sorted Array is Rotated and then given as an input\n",
    "     Array is given in the ZigZag Format"
   ]
  },
  {
   "cell_type": "code",
   "execution_count": 1,
   "id": "ffcfbf7c",
   "metadata": {},
   "outputs": [
    {
     "name": "stdout",
     "output_type": "stream",
     "text": [
      "2\n"
     ]
    }
   ],
   "source": [
    "#Binary Search algorithm\n",
    "#O(logn) TC and O(1) SC\n",
    "\n",
    "def BinarySearch(arr,key,low,high):\n",
    "    if (low>high):\n",
    "        return -1\n",
    "    mid = low + ((high - low)//2)\n",
    "    if key == arr[mid]:\n",
    "        return mid\n",
    "    elif (key<arr[mid]):\n",
    "        return BinarySearch(arr,key,low,mid-1)\n",
    "    else:\n",
    "        return BinarySearch(arr,key,mid+1,high)\n",
    "\n",
    "if __name__ == \"__main__\":\n",
    "    arr = [2,3,4,5,6,7,8,9,10]\n",
    "    low = 0\n",
    "    high = len(arr) - 1\n",
    "    print(BinarySearch(arr,4,low,high))\n",
    "    \n",
    "    \n",
    "#arr = [2,3,4,5,6,7,8,9,10]\n",
    "# key = 4\n"
   ]
  }
 ],
 "metadata": {
  "kernelspec": {
   "display_name": "Python 3 (ipykernel)",
   "language": "python",
   "name": "python3"
  },
  "language_info": {
   "codemirror_mode": {
    "name": "ipython",
    "version": 3
   },
   "file_extension": ".py",
   "mimetype": "text/x-python",
   "name": "python",
   "nbconvert_exporter": "python",
   "pygments_lexer": "ipython3",
   "version": "3.10.0"
  },
  "varInspector": {
   "cols": {
    "lenName": 16,
    "lenType": 16,
    "lenVar": 40
   },
   "kernels_config": {
    "python": {
     "delete_cmd_postfix": "",
     "delete_cmd_prefix": "del ",
     "library": "var_list.py",
     "varRefreshCmd": "print(var_dic_list())"
    },
    "r": {
     "delete_cmd_postfix": ") ",
     "delete_cmd_prefix": "rm(",
     "library": "var_list.r",
     "varRefreshCmd": "cat(var_dic_list()) "
    }
   },
   "types_to_exclude": [
    "module",
    "function",
    "builtin_function_or_method",
    "instance",
    "_Feature"
   ],
   "window_display": false
  }
 },
 "nbformat": 4,
 "nbformat_minor": 5
}
