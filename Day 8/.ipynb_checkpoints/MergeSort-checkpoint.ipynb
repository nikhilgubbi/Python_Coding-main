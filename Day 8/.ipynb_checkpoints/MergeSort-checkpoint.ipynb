{
 "cells": [
  {
   "cell_type": "markdown",
   "id": "267ec559",
   "metadata": {},
   "source": [
    "# MergeSort"
   ]
  },
  {
   "cell_type": "code",
   "execution_count": 9,
   "id": "82273716",
   "metadata": {},
   "outputs": [
    {
     "name": "stdout",
     "output_type": "stream",
     "text": [
      "[-1901938876474, -7, -1, 2, 3, 5, 6, 89, 98, 1000, 1000000, 187363555, 10889737366, 1083763654647, 109983983874764746151653618198393013847497187497]\n"
     ]
    }
   ],
   "source": [
    "# O(nlogn) TC and O(1) SC\n",
    " \n",
    "def merge(arr,result,low,mid,high):\n",
    "    k = low\n",
    "    i = low\n",
    "    j = mid + 1\n",
    "    \n",
    "    # When there are elements at left and right, do the following\n",
    "    while(i<=mid and j<=high):\n",
    "        if arr[i] <= arr[j]:\n",
    "            result[k] = arr[i]\n",
    "            k = k + 1\n",
    "            i = i + 1\n",
    "        else:\n",
    "            result[k] = arr[j]\n",
    "            k = k + 1\n",
    "            j = j + 1\n",
    "            \n",
    "    # Copy the remaining elements\n",
    "    while i <= mid:\n",
    "        result[k] = arr[i]\n",
    "        k = k + 1\n",
    "        i = i + 1\n",
    "        \n",
    "    # No need to copy the second half of the array\n",
    "    # Copy back to the original list to reflect the sorted order\n",
    "    for i in range(low,high+1):\n",
    "        arr[i] = result[i]\n",
    "\n",
    "def mergeSort(arr,result,low,high):\n",
    "    if high == low:\n",
    "        return\n",
    "    \n",
    "    # Find the mid index\n",
    "    mid = (low+high)//2\n",
    "    \n",
    "    # Recursively split them into two halves until the size becomes 1 and merge them\n",
    "    mergeSort(arr,result,low,mid)\n",
    "    mergeSort(arr,result,mid+1,high)\n",
    "    \n",
    "    merge(arr,result,low,mid,high)\n",
    "\n",
    "def mergeSortFinal(arr,result,low,high):\n",
    "    mergeSort(arr,result,low,high)\n",
    "    return arr\n",
    "\n",
    "if __name__==\"__main__\":\n",
    "    arr = [-1,2,5,89,109983983874764746151653618198393013847497187497,-7,6,3,98,1000000,10889737366,1083763654647,187363555,1000,-1901938876474]\n",
    "    result = []\n",
    "    low = 0\n",
    "    high = len(arr) - 1\n",
    "    result = arr.copy()\n",
    "    print(mergeSortFinal(arr,result,low,high))\n",
    "    \n",
    "    \n",
    "    \n",
    "\n",
    "    \n",
    "    \n",
    "    "
   ]
  }
 ],
 "metadata": {
  "kernelspec": {
   "display_name": "Python 3 (ipykernel)",
   "language": "python",
   "name": "python3"
  },
  "language_info": {
   "codemirror_mode": {
    "name": "ipython",
    "version": 3
   },
   "file_extension": ".py",
   "mimetype": "text/x-python",
   "name": "python",
   "nbconvert_exporter": "python",
   "pygments_lexer": "ipython3",
   "version": "3.10.0a5"
  },
  "varInspector": {
   "cols": {
    "lenName": 16,
    "lenType": 16,
    "lenVar": 40
   },
   "kernels_config": {
    "python": {
     "delete_cmd_postfix": "",
     "delete_cmd_prefix": "del ",
     "library": "var_list.py",
     "varRefreshCmd": "print(var_dic_list())"
    },
    "r": {
     "delete_cmd_postfix": ") ",
     "delete_cmd_prefix": "rm(",
     "library": "var_list.r",
     "varRefreshCmd": "cat(var_dic_list()) "
    }
   },
   "types_to_exclude": [
    "module",
    "function",
    "builtin_function_or_method",
    "instance",
    "_Feature"
   ],
   "window_display": false
  }
 },
 "nbformat": 4,
 "nbformat_minor": 5
}
