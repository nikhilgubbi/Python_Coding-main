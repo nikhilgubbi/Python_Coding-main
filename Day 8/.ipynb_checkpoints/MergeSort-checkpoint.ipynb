{
 "cells": [
  {
   "cell_type": "markdown",
   "id": "47122758",
   "metadata": {},
   "source": [
    "# MergeSort"
   ]
  },
  {
   "cell_type": "code",
   "execution_count": 3,
   "id": "461808e9",
   "metadata": {},
   "outputs": [
    {
     "ename": "IndexError",
     "evalue": "list assignment index out of range",
     "output_type": "error",
     "traceback": [
      "\u001b[1;31m---------------------------------------------------------------------------\u001b[0m",
      "\u001b[1;31mIndexError\u001b[0m                                Traceback (most recent call last)",
      "Input \u001b[1;32mIn [3]\u001b[0m, in \u001b[0;36m<cell line: 33>\u001b[1;34m()\u001b[0m\n\u001b[0;32m     36\u001b[0m low \u001b[38;5;241m=\u001b[39m \u001b[38;5;241m0\u001b[39m\n\u001b[0;32m     37\u001b[0m high \u001b[38;5;241m=\u001b[39m \u001b[38;5;28mlen\u001b[39m(arr) \u001b[38;5;241m-\u001b[39m \u001b[38;5;241m1\u001b[39m\n\u001b[1;32m---> 38\u001b[0m \u001b[38;5;28mprint\u001b[39m(\u001b[43mmergeSortFinal\u001b[49m\u001b[43m(\u001b[49m\u001b[43marr\u001b[49m\u001b[43m,\u001b[49m\u001b[43mresult\u001b[49m\u001b[43m,\u001b[49m\u001b[43mlow\u001b[49m\u001b[43m,\u001b[49m\u001b[43mhigh\u001b[49m\u001b[43m)\u001b[49m)\n",
      "Input \u001b[1;32mIn [3]\u001b[0m, in \u001b[0;36mmergeSortFinal\u001b[1;34m(arr, result, low, high)\u001b[0m\n\u001b[0;32m     29\u001b[0m \u001b[38;5;28;01mdef\u001b[39;00m \u001b[38;5;21mmergeSortFinal\u001b[39m(arr,result,low,high):\n\u001b[1;32m---> 30\u001b[0m     \u001b[43mmergeSort\u001b[49m\u001b[43m(\u001b[49m\u001b[43marr\u001b[49m\u001b[43m,\u001b[49m\u001b[43mresult\u001b[49m\u001b[43m,\u001b[49m\u001b[43mlow\u001b[49m\u001b[43m,\u001b[49m\u001b[43mhigh\u001b[49m\u001b[43m)\u001b[49m\n\u001b[0;32m     31\u001b[0m     \u001b[38;5;28;01mreturn\u001b[39;00m arr\n",
      "Input \u001b[1;32mIn [3]\u001b[0m, in \u001b[0;36mmergeSort\u001b[1;34m(arr, result, low, high)\u001b[0m\n\u001b[0;32m     23\u001b[0m     \u001b[38;5;28;01mreturn\u001b[39;00m\n\u001b[0;32m     24\u001b[0m mid \u001b[38;5;241m=\u001b[39m (low\u001b[38;5;241m+\u001b[39mhigh)\u001b[38;5;241m/\u001b[39m\u001b[38;5;241m/\u001b[39m\u001b[38;5;241m2\u001b[39m\n\u001b[1;32m---> 25\u001b[0m \u001b[43mmergeSort\u001b[49m\u001b[43m(\u001b[49m\u001b[43marr\u001b[49m\u001b[43m,\u001b[49m\u001b[43mresult\u001b[49m\u001b[43m,\u001b[49m\u001b[43mlow\u001b[49m\u001b[43m,\u001b[49m\u001b[43mmid\u001b[49m\u001b[43m)\u001b[49m\n\u001b[0;32m     26\u001b[0m mergeSort(arr,result,mid\u001b[38;5;241m+\u001b[39m\u001b[38;5;241m1\u001b[39m,high)\n\u001b[0;32m     27\u001b[0m merge(arr,result,low,mid,high)\n",
      "Input \u001b[1;32mIn [3]\u001b[0m, in \u001b[0;36mmergeSort\u001b[1;34m(arr, result, low, high)\u001b[0m\n\u001b[0;32m     23\u001b[0m     \u001b[38;5;28;01mreturn\u001b[39;00m\n\u001b[0;32m     24\u001b[0m mid \u001b[38;5;241m=\u001b[39m (low\u001b[38;5;241m+\u001b[39mhigh)\u001b[38;5;241m/\u001b[39m\u001b[38;5;241m/\u001b[39m\u001b[38;5;241m2\u001b[39m\n\u001b[1;32m---> 25\u001b[0m \u001b[43mmergeSort\u001b[49m\u001b[43m(\u001b[49m\u001b[43marr\u001b[49m\u001b[43m,\u001b[49m\u001b[43mresult\u001b[49m\u001b[43m,\u001b[49m\u001b[43mlow\u001b[49m\u001b[43m,\u001b[49m\u001b[43mmid\u001b[49m\u001b[43m)\u001b[49m\n\u001b[0;32m     26\u001b[0m mergeSort(arr,result,mid\u001b[38;5;241m+\u001b[39m\u001b[38;5;241m1\u001b[39m,high)\n\u001b[0;32m     27\u001b[0m merge(arr,result,low,mid,high)\n",
      "Input \u001b[1;32mIn [3]\u001b[0m, in \u001b[0;36mmergeSort\u001b[1;34m(arr, result, low, high)\u001b[0m\n\u001b[0;32m     25\u001b[0m mergeSort(arr,result,low,mid)\n\u001b[0;32m     26\u001b[0m mergeSort(arr,result,mid\u001b[38;5;241m+\u001b[39m\u001b[38;5;241m1\u001b[39m,high)\n\u001b[1;32m---> 27\u001b[0m \u001b[43mmerge\u001b[49m\u001b[43m(\u001b[49m\u001b[43marr\u001b[49m\u001b[43m,\u001b[49m\u001b[43mresult\u001b[49m\u001b[43m,\u001b[49m\u001b[43mlow\u001b[49m\u001b[43m,\u001b[49m\u001b[43mmid\u001b[49m\u001b[43m,\u001b[49m\u001b[43mhigh\u001b[49m\u001b[43m)\u001b[49m\n",
      "Input \u001b[1;32mIn [3]\u001b[0m, in \u001b[0;36mmerge\u001b[1;34m(arr, result, low, mid, high)\u001b[0m\n\u001b[0;32m      9\u001b[0m     i \u001b[38;5;241m=\u001b[39m i \u001b[38;5;241m+\u001b[39m \u001b[38;5;241m1\u001b[39m\n\u001b[0;32m     10\u001b[0m \u001b[38;5;28;01melse\u001b[39;00m:\n\u001b[1;32m---> 11\u001b[0m     result[k] \u001b[38;5;241m=\u001b[39m arr[j]\n\u001b[0;32m     12\u001b[0m     k \u001b[38;5;241m=\u001b[39m k \u001b[38;5;241m+\u001b[39m \u001b[38;5;241m1\u001b[39m\n\u001b[0;32m     13\u001b[0m     j \u001b[38;5;241m=\u001b[39m j \u001b[38;5;241m+\u001b[39m \u001b[38;5;241m1\u001b[39m\n",
      "\u001b[1;31mIndexError\u001b[0m: list assignment index out of range"
     ]
    }
   ],
   "source": [
    "def merge(arr,result,low,mid,high):\n",
    "    k = low\n",
    "    i = low\n",
    "    j = mid + 1\n",
    "    while(i<=mid and j<=high):\n",
    "        if arr[i] <= arr[j]:\n",
    "            result[k] = arr[i]\n",
    "            k = k + 1\n",
    "            i = i + 1\n",
    "        else:\n",
    "            result[k] = arr[j]\n",
    "            k = k + 1\n",
    "            j = j + 1\n",
    "    while i <= mid:\n",
    "        result[k] = arr[i]\n",
    "        k = k + 1\n",
    "        i = i + 1\n",
    "    for i in range(low,high+1):\n",
    "        arr[i] = result[i]\n",
    "\n",
    "def mergeSort(arr,result,low,high):\n",
    "    if high == low:\n",
    "        return\n",
    "    mid = (low+high)//2\n",
    "    mergeSort(arr,result,low,mid)\n",
    "    mergeSort(arr,result,mid+1,high)\n",
    "    merge(arr,result,low,mid,high)\n",
    "\n",
    "def mergeSortFinal(arr,result,low,high):\n",
    "    mergeSort(arr,result,low,high)\n",
    "    return arr\n",
    "\n",
    "if __name__==\"__main__\":\n",
    "    arr = [8,4,3,12,25,6,13,10]\n",
    "    result = []\n",
    "    low = 0\n",
    "    high = len(arr) - 1\n",
    "    print(mergeSortFinal(arr,result,low,high))\n",
    "    \n",
    "\n",
    "    \n",
    "    \n",
    "    "
   ]
  },
  {
   "cell_type": "code",
   "execution_count": null,
   "id": "4d9b25b6",
   "metadata": {},
   "outputs": [],
   "source": []
  }
 ],
 "metadata": {
  "kernelspec": {
   "display_name": "Python 3 (ipykernel)",
   "language": "python",
   "name": "python3"
  },
  "language_info": {
   "codemirror_mode": {
    "name": "ipython",
    "version": 3
   },
   "file_extension": ".py",
   "mimetype": "text/x-python",
   "name": "python",
   "nbconvert_exporter": "python",
   "pygments_lexer": "ipython3",
   "version": "3.10.0a5"
  },
  "varInspector": {
   "cols": {
    "lenName": 16,
    "lenType": 16,
    "lenVar": 40
   },
   "kernels_config": {
    "python": {
     "delete_cmd_postfix": "",
     "delete_cmd_prefix": "del ",
     "library": "var_list.py",
     "varRefreshCmd": "print(var_dic_list())"
    },
    "r": {
     "delete_cmd_postfix": ") ",
     "delete_cmd_prefix": "rm(",
     "library": "var_list.r",
     "varRefreshCmd": "cat(var_dic_list()) "
    }
   },
   "types_to_exclude": [
    "module",
    "function",
    "builtin_function_or_method",
    "instance",
    "_Feature"
   ],
   "window_display": false
  }
 },
 "nbformat": 4,
 "nbformat_minor": 5
}
