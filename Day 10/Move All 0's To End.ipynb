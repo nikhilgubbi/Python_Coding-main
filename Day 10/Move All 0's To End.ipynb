{
 "cells": [
  {
   "cell_type": "markdown",
   "id": "59c6426c",
   "metadata": {},
   "source": [
    "Given an array nums, write a function to move all 0's to the end of it while maintaining the relative order of the non-zero elements in O(n) Time complexity and O(1) Space complexity with single traversal allowed"
   ]
  },
  {
   "cell_type": "code",
   "execution_count": 9,
   "id": "f38d8bc0",
   "metadata": {},
   "outputs": [
    {
     "name": "stdout",
     "output_type": "stream",
     "text": [
      "[1, 3, 4, 9, 0, 0, 0]\n"
     ]
    }
   ],
   "source": [
    "#TC : O(n)\n",
    "#SC : O(1) \n",
    "\n",
    "def movZeroes(arr,n):\n",
    "    count = 0\n",
    "    for i in range(n):\n",
    "        if arr[i]!=0:\n",
    "            arr[count] = arr[i]\n",
    "            count = count + 1\n",
    "    while count<n:\n",
    "        arr[count] = 0\n",
    "        count = count + 1\n",
    "if __name__ == \"__main__\":\n",
    "    arr = [1,3,0,0,4,0,9]\n",
    "    n = len(arr)\n",
    "    movZeroes(arr,n)\n",
    "    print(arr)"
   ]
  },
  {
   "cell_type": "code",
   "execution_count": null,
   "id": "ad784050",
   "metadata": {},
   "outputs": [],
   "source": []
  }
 ],
 "metadata": {
  "kernelspec": {
   "display_name": "Python 3 (ipykernel)",
   "language": "python",
   "name": "python3"
  },
  "language_info": {
   "codemirror_mode": {
    "name": "ipython",
    "version": 3
   },
   "file_extension": ".py",
   "mimetype": "text/x-python",
   "name": "python",
   "nbconvert_exporter": "python",
   "pygments_lexer": "ipython3",
   "version": "3.10.0a5"
  },
  "varInspector": {
   "cols": {
    "lenName": 16,
    "lenType": 16,
    "lenVar": 40
   },
   "kernels_config": {
    "python": {
     "delete_cmd_postfix": "",
     "delete_cmd_prefix": "del ",
     "library": "var_list.py",
     "varRefreshCmd": "print(var_dic_list())"
    },
    "r": {
     "delete_cmd_postfix": ") ",
     "delete_cmd_prefix": "rm(",
     "library": "var_list.r",
     "varRefreshCmd": "cat(var_dic_list()) "
    }
   },
   "types_to_exclude": [
    "module",
    "function",
    "builtin_function_or_method",
    "instance",
    "_Feature"
   ],
   "window_display": false
  }
 },
 "nbformat": 4,
 "nbformat_minor": 5
}
