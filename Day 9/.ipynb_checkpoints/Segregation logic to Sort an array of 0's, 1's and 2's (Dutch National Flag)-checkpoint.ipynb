{
 "cells": [
  {
   "cell_type": "markdown",
   "id": "ba0b60a3",
   "metadata": {},
   "source": [
    "Array consist of only 0's, 1's and 2's. Write an algorithm to sort  this array in O(n) time complexity and O(1) Space complexity with only one traversal"
   ]
  },
  {
   "cell_type": "code",
   "execution_count": 9,
   "id": "28f34c2f",
   "metadata": {},
   "outputs": [
    {
     "name": "stdout",
     "output_type": "stream",
     "text": [
      "[0, 0, 0, 1, 1, 2, 2, 2]\n"
     ]
    }
   ],
   "source": [
    "def ZOT(arr):\n",
    "    low = count = 0\n",
    "    high = len(arr)-1 \n",
    "    while(count<=high):\n",
    "        \n",
    "        # if arr[count] == 2 swap(arr[count],arr[high]) high--\n",
    "        if arr[count] == 2:\n",
    "            arr[count],arr[high] = arr[high],arr[count]\n",
    "            high = high - 1\n",
    "            \n",
    "        # if arr[count] == 1 Dont swap anything, Increment count i.e, count++     \n",
    "        elif arr[count] == 1:\n",
    "            count = count +1\n",
    "            \n",
    "        # if arr[count] == 0 swap(arr[count],arr[low]) count++, low++   \n",
    "        elif arr[count] == 0:\n",
    "            arr[count],arr[low] = arr[low],arr[count]\n",
    "            count = count + 1\n",
    "            low = low + 1\n",
    "            \n",
    "        else:\n",
    "            return -1\n",
    "            \n",
    "            \n",
    "    return arr\n",
    "if __name__==\"__main__\":\n",
    "    arr = [0,1,2,1,2,0,2,0]\n",
    "    print(ZOT(arr))\n",
    "            "
   ]
  },
  {
   "cell_type": "code",
   "execution_count": null,
   "id": "d882522c",
   "metadata": {},
   "outputs": [],
   "source": []
  }
 ],
 "metadata": {
  "kernelspec": {
   "display_name": "Python 3 (ipykernel)",
   "language": "python",
   "name": "python3"
  },
  "language_info": {
   "codemirror_mode": {
    "name": "ipython",
    "version": 3
   },
   "file_extension": ".py",
   "mimetype": "text/x-python",
   "name": "python",
   "nbconvert_exporter": "python",
   "pygments_lexer": "ipython3",
   "version": "3.10.0a5"
  },
  "varInspector": {
   "cols": {
    "lenName": 16,
    "lenType": 16,
    "lenVar": 40
   },
   "kernels_config": {
    "python": {
     "delete_cmd_postfix": "",
     "delete_cmd_prefix": "del ",
     "library": "var_list.py",
     "varRefreshCmd": "print(var_dic_list())"
    },
    "r": {
     "delete_cmd_postfix": ") ",
     "delete_cmd_prefix": "rm(",
     "library": "var_list.r",
     "varRefreshCmd": "cat(var_dic_list()) "
    }
   },
   "types_to_exclude": [
    "module",
    "function",
    "builtin_function_or_method",
    "instance",
    "_Feature"
   ],
   "window_display": false
  }
 },
 "nbformat": 4,
 "nbformat_minor": 5
}
