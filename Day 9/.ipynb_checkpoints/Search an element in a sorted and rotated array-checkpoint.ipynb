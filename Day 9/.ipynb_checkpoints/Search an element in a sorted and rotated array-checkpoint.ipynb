{
 "cells": [
  {
   "cell_type": "markdown",
   "id": "4bec1334",
   "metadata": {},
   "source": [
    "We rotate an ascending order sorted array at some point unknown to user. So for instance, 3 4 5 6 7 might become 5 6 7 3 4. Modify binary search algorithm to find an element in the rotated array in O(log n) time and O(1) Space complexity"
   ]
  },
  {
   "cell_type": "code",
   "execution_count": 17,
   "id": "2fab9f3d",
   "metadata": {},
   "outputs": [
    {
     "name": "stdout",
     "output_type": "stream",
     "text": [
      "5\n"
     ]
    }
   ],
   "source": [
    "#Search the value index in sorted rotated array\n",
    "#TC: O(logn)\n",
    "#SC: O(1)\n",
    "\n",
    "def search(arr,l,h,v):\n",
    "    if l>h:\n",
    "        return -1\n",
    "    mid = (l+h)//2\n",
    "    if arr[mid] == v:\n",
    "        return mid\n",
    "    if arr[l]<=arr[mid]:\n",
    "        if v>=arr[l] and v<=arr[mid]:\n",
    "            return search(arr,l,mid-1,v)\n",
    "        else:\n",
    "            return search(arr,mid+1,h,v)\n",
    "    if v>=arr[mid] and v<=arr[h]:\n",
    "        return search(arr,mid+1,h,v)\n",
    "    return search(arr,l,mid-1,v)\n",
    "\n",
    "if __name__==\"__main__\":\n",
    "    #arr = [30, 40, 50, 10, 20]\n",
    "    arr = [5, 6, 7, 8, 9, 10, 1, 2, 3]\n",
    "    l,h = 0,len(arr)-1\n",
    "    v = 10\n",
    "    i = search(arr,l,h,v)\n",
    "    print(i) "
   ]
  },
  {
   "cell_type": "code",
   "execution_count": 8,
   "id": "658a8290",
   "metadata": {},
   "outputs": [
    {
     "name": "stdout",
     "output_type": "stream",
     "text": [
      "3\n"
     ]
    }
   ],
   "source": [
    "def searchIter(arr,val):\n",
    "    low,high = 0, len(arr) - 1\n",
    "    while low<=high:\n",
    "        mid = (low+high)//2\n",
    "        if arr[mid] == value:\n",
    "            return mid\n",
    "        if arr[mid]>=arr[low]:\n",
    "            if arr[low] <=value<=arr[mid]:\n",
    "                high = mid - 1\n",
    "            else:\n",
    "                low = mid + 1\n",
    "        else:\n",
    "            if arr[mid]<=value<=arr[high]:\n",
    "                low = mid+1\n",
    "            else:\n",
    "                high = mid - 1\n",
    "    return -1\n",
    "\n",
    "if __name__==\"__main__\":\n",
    "    #arr= [3,4,5,6,7,8,9,10,1,2]\n",
    "    #arr = [5, 6, 7, 8, 9, 10, 1, 2, 3]\n",
    "    arr = [30, 40, 50, 10, 20]\n",
    "    value = 10\n",
    "    print(searchIter(arr,value))\n",
    "              "
   ]
  },
  {
   "cell_type": "code",
   "execution_count": null,
   "id": "f54722a6",
   "metadata": {},
   "outputs": [],
   "source": []
  }
 ],
 "metadata": {
  "kernelspec": {
   "display_name": "Python 3 (ipykernel)",
   "language": "python",
   "name": "python3"
  },
  "language_info": {
   "codemirror_mode": {
    "name": "ipython",
    "version": 3
   },
   "file_extension": ".py",
   "mimetype": "text/x-python",
   "name": "python",
   "nbconvert_exporter": "python",
   "pygments_lexer": "ipython3",
   "version": "3.10.0a5"
  },
  "varInspector": {
   "cols": {
    "lenName": 16,
    "lenType": 16,
    "lenVar": 40
   },
   "kernels_config": {
    "python": {
     "delete_cmd_postfix": "",
     "delete_cmd_prefix": "del ",
     "library": "var_list.py",
     "varRefreshCmd": "print(var_dic_list())"
    },
    "r": {
     "delete_cmd_postfix": ") ",
     "delete_cmd_prefix": "rm(",
     "library": "var_list.r",
     "varRefreshCmd": "cat(var_dic_list()) "
    }
   },
   "types_to_exclude": [
    "module",
    "function",
    "builtin_function_or_method",
    "instance",
    "_Feature"
   ],
   "window_display": false
  }
 },
 "nbformat": 4,
 "nbformat_minor": 5
}
