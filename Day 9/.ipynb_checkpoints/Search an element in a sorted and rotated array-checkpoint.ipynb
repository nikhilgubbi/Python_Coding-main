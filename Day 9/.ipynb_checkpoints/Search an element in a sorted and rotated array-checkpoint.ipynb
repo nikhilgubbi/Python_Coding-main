{
 "cells": [
  {
   "cell_type": "markdown",
   "id": "23ee2aff",
   "metadata": {},
   "source": [
    "We rotate an ascending order sorted array at some point unknown to user. So for instance, 3 4 5 6 7 might become 5 6 7 3 4. Modify binary search algorithm to find an element in the rotated array in O(log n) time and O(1) Space complexity"
   ]
  },
  {
   "cell_type": "code",
   "execution_count": 17,
   "id": "95ca502f",
   "metadata": {},
   "outputs": [
    {
     "name": "stdout",
     "output_type": "stream",
     "text": [
      "5\n"
     ]
    }
   ],
   "source": [
    "#Search the value index in sorted rotated array\n",
    "#TC: O(logn)\n",
    "#SC: O(1)\n",
    "\n",
    "def search(arr,l,h,v):\n",
    "    if l>h:\n",
    "        return -1\n",
    "    mid = (l+h)//2\n",
    "    if arr[mid] == v:\n",
    "        return mid\n",
    "    \n",
    "    # If arr[l...mid] is sorted  \n",
    "    if arr[l]<=arr[mid]:\n",
    "        \n",
    "        # If key lies between a[l] and a[mid]\n",
    "        if v>=arr[l] and v<=arr[mid]:\n",
    "            return search(arr,l,mid-1,v)\n",
    "        \n",
    "        # Else recur from arr[mid+1] to arr[h]\n",
    "        else:\n",
    "            return search(arr,mid+1,h,v)\n",
    "        \n",
    "    # Else arr[mid+1....h] should be sorted\n",
    "    \n",
    "    # If key present in arr[mid+1...h]\n",
    "    if v>=arr[mid] and v<=arr[h]:\n",
    "        return search(arr,mid+1,h,v)\n",
    "    \n",
    "    #Else recur arr[l...mid-1]\n",
    "    return search(arr,l,mid-1,v)\n",
    "\n",
    "if __name__==\"__main__\":\n",
    "    #arr = [30, 40, 50, 10, 20]\n",
    "    arr = [5, 6, 7, 8, 9, 10, 1, 2, 3]\n",
    "    l,h = 0,len(arr)-1\n",
    "    v = 10\n",
    "    i = search(arr,l,h,v)\n",
    "    print(i) "
   ]
  },
  {
   "cell_type": "code",
   "execution_count": 8,
   "id": "923bf9a6",
   "metadata": {},
   "outputs": [
    {
     "name": "stdout",
     "output_type": "stream",
     "text": [
      "3\n"
     ]
    }
   ],
   "source": [
    "def searchIter(arr,val):\n",
    "    low,high = 0, len(arr) - 1\n",
    "    while low<=high:\n",
    "        mid = (low+high)//2\n",
    "        \n",
    "        #if value == arr[mid], return mid\n",
    "        if arr[mid] == value:\n",
    "            return mid\n",
    "        \n",
    "        #Check if left subarray is sorted ie, arr[mid]>=arr[low]\n",
    "        if arr[mid]>=arr[low]:\n",
    "            \n",
    "            # if value lies between a[low] and a[mid]\n",
    "            if arr[low] <=value <=arr[mid]:\n",
    "                \n",
    "                # make higher index = mid-1, since we can find the element inside it\n",
    "                high = mid - 1\n",
    "                \n",
    "                # Else right subarray is sorted\n",
    "            else:\n",
    "                low = mid + 1\n",
    "                \n",
    "        # Since left subarray is not sorted check for value in right subarray\n",
    "        else:\n",
    "            \n",
    "            # If value lies in between a[mid] and arr[high], make low pointing to arr[mid+1]\n",
    "            if arr[mid]<=value<=arr[high]:\n",
    "                low = mid+1\n",
    "            else:\n",
    "                high = mid - 1\n",
    "    return -1\n",
    "\n",
    "if __name__==\"__main__\":\n",
    "    #arr= [3,4,5,6,7,8,9,10,1,2]\n",
    "    #arr = [5, 6, 7, 8, 9, 10, 1, 2, 3]\n",
    "    arr = [30, 40, 50, 10, 20]\n",
    "    value = 10\n",
    "    print(searchIter(arr,value))\n",
    "              "
   ]
  }
 ],
 "metadata": {
  "kernelspec": {
   "display_name": "Python 3 (ipykernel)",
   "language": "python",
   "name": "python3"
  },
  "language_info": {
   "codemirror_mode": {
    "name": "ipython",
    "version": 3
   },
   "file_extension": ".py",
   "mimetype": "text/x-python",
   "name": "python",
   "nbconvert_exporter": "python",
   "pygments_lexer": "ipython3",
   "version": "3.10.0a5"
  },
  "varInspector": {
   "cols": {
    "lenName": 16,
    "lenType": 16,
    "lenVar": 40
   },
   "kernels_config": {
    "python": {
     "delete_cmd_postfix": "",
     "delete_cmd_prefix": "del ",
     "library": "var_list.py",
     "varRefreshCmd": "print(var_dic_list())"
    },
    "r": {
     "delete_cmd_postfix": ") ",
     "delete_cmd_prefix": "rm(",
     "library": "var_list.r",
     "varRefreshCmd": "cat(var_dic_list()) "
    }
   },
   "types_to_exclude": [
    "module",
    "function",
    "builtin_function_or_method",
    "instance",
    "_Feature"
   ],
   "window_display": false
  }
 },
 "nbformat": 4,
 "nbformat_minor": 5
}
